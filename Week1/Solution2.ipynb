{
 "cells": [
  {
   "cell_type": "code",
   "execution_count": 2,
   "id": "676cf093",
   "metadata": {},
   "outputs": [
    {
     "name": "stdout",
     "output_type": "stream",
     "text": [
      "print input type if else elif while do for int\n"
     ]
    }
   ],
   "source": [
    "# 1. Print a list of some common Python keywords.\n",
    "# (Manually type and print at least 10 keywords)\n",
    "print(\"print input type if else elif while do for int\")"
   ]
  },
  {
   "cell_type": "code",
   "execution_count": 3,
   "id": "8d6b2a4d",
   "metadata": {},
   "outputs": [
    {
     "name": "stdout",
     "output_type": "stream",
     "text": [
      "Three keywords for conditional statements are \n",
      "if,else,elif\n"
     ]
    }
   ],
   "source": [
    "# 2. Print three keywords used for conditional statements in Python.\n",
    "print(\"Three keywords for conditional statements are \\nif,else,elif\")\n",
    "# (Expected: if, else, elif)\n"
   ]
  },
  {
   "cell_type": "code",
   "execution_count": 4,
   "id": "ec6a4900",
   "metadata": {},
   "outputs": [
    {
     "name": "stdout",
     "output_type": "stream",
     "text": [
      "three keywords used in loops:\n",
      " while,break,continue,for\n"
     ]
    }
   ],
   "source": [
    "# 3. Print three keywords used in loops.\n",
    "print(\"three keywords used in loops:\\n while,break,continue,for\")\n",
    "# (Expected: for, while, break, continue, etc.)\n"
   ]
  },
  {
   "cell_type": "code",
   "execution_count": 5,
   "id": "4e42873f",
   "metadata": {},
   "outputs": [
    {
     "name": "stdout",
     "output_type": "stream",
     "text": [
      "True, False, and, or, not, is\n"
     ]
    }
   ],
   "source": [
    "# 4. Print the Boolean keywords in Python.\n",
    "print(\"True, False, and, or, not, is\")\n",
    "# (Expected: True, False, and, or, not, is)"
   ]
  },
  {
   "cell_type": "code",
   "execution_count": 6,
   "id": "9963e5fd",
   "metadata": {},
   "outputs": [
    {
     "name": "stdout",
     "output_type": "stream",
     "text": [
      "break\n",
      "else\n",
      "for\n",
      "if\n",
      "while\n"
     ]
    }
   ],
   "source": [
    "# 5. Manually sort and print five keywords alphabetically.\n",
    "keywords = [\"while\", \"if\", \"else\", \"for\", \"break\"]\n",
    "print(keywords[4])\n",
    "print(keywords[2])\n",
    "print(keywords[3])\n",
    "print(keywords[1])\n",
    "print(keywords[0])"
   ]
  },
  {
   "cell_type": "code",
   "execution_count": 7,
   "id": "93c6963d",
   "metadata": {},
   "outputs": [
    {
     "name": "stdout",
     "output_type": "stream",
     "text": [
      "keywords that represnt constant values:True,False,None\n"
     ]
    }
   ],
   "source": [
    "# 6. Print the keywords that represent constant values.\n",
    "print(\"keywords that represnt constant values:True,False,None\")\n",
    "# (Expected: True, False, None)"
   ]
  },
  {
   "cell_type": "code",
   "execution_count": 9,
   "id": "914dfc10",
   "metadata": {},
   "outputs": [
    {
     "name": "stdout",
     "output_type": "stream",
     "text": [
      "keyword used for flow control are: break ,continue,pass\n"
     ]
    }
   ],
   "source": [
    "# 7. Print keywords used for flow control.\n",
    "print(\"keyword used for flow control are: break ,continue,pass\")\n",
    "# (Expected: break, continue, pass)\n"
   ]
  },
  {
   "cell_type": "code",
   "execution_count": null,
   "id": "37cbc16b",
   "metadata": {},
   "outputs": [
    {
     "name": "stdout",
     "output_type": "stream",
     "text": [
      "The keyword 'if' is used to check conditions.\n"
     ]
    }
   ],
   "source": [
    "# 8. Create a print statement that uses the word if as part of the text.\n",
    "print(\"The keyword 'if' is used to check conditions.\")\n",
    "# Example Output: The keyword 'if' is used to check conditions."
   ]
  },
  {
   "cell_type": "code",
   "execution_count": null,
   "id": "d0b5a9dc",
   "metadata": {},
   "outputs": [
    {
     "name": "stdout",
     "output_type": "stream",
     "text": [
      "Print | Displays somethong on screen\n",
      "if | checks condition\n",
      "while | used for loops\n"
     ]
    }
   ],
   "source": [
    "# 9. Make a table using print that shows 2 columns: Keyword | Use\n",
    "print(\"Print | Displays somethong on screen\")\n",
    "print(\"if | checks condition\")\n",
    "print(\"while | used for loops\")"
   ]
  },
  {
   "cell_type": "code",
   "execution_count": 12,
   "id": "8aa43912",
   "metadata": {},
   "outputs": [
    {
     "name": "stdout",
     "output_type": "stream",
     "text": [
      "IF ,ELSE,ELIF,WHILE,FOR\n"
     ]
    }
   ],
   "source": [
    "# 10. Print all capital letter versions of 5 keywords.\n",
    "print(str.upper(\"if ,else,elif,while,for\"))\n",
    "# e.g., IF, ELSE, WHILE, etc."
   ]
  },
  {
   "cell_type": "code",
   "execution_count": 13,
   "id": "6875d6ed",
   "metadata": {},
   "outputs": [
    {
     "name": "stdout",
     "output_type": "stream",
     "text": [
      "if\n",
      "else\n",
      "elif\n",
      "while\n",
      "for\n",
      "do\n",
      "pass\n",
      "continue\n",
      "break\n",
      "int\n"
     ]
    }
   ],
   "source": [
    "# 🟡 Intermediate Conceptual Challenges (11–15)\n",
    "# 11. Make a list (manually) of 10 Python keywords and print it.\n",
    "keyword=['if','else','elif','while','for','do','pass','continue','break','int']\n",
    "for i in range(0,10):\n",
    "    print(keyword[i])"
   ]
  },
  {
   "cell_type": "code",
   "execution_count": 14,
   "id": "35be2ba0",
   "metadata": {},
   "outputs": [
    {
     "name": "stdout",
     "output_type": "stream",
     "text": [
      "Following python keyword cannot be used as variable names:if, while, for, class, def\n"
     ]
    }
   ],
   "source": [
    "\n",
    "# 12. Print 5 keywords that cannot be used as variable names.\n",
    "print(\"Following python keyword cannot be used as variable names:if, while, for, class, def\")\n",
    "# Example: if, while, for, class, def"
   ]
  },
  {
   "cell_type": "code",
   "execution_count": 15,
   "id": "266c293a",
   "metadata": {},
   "outputs": [
    {
     "name": "stdout",
     "output_type": "stream",
     "text": [
      "Python uses if, else, and for to control the flow of code.\n"
     ]
    }
   ],
   "source": [
    "# 13. Print a sentence that uses 3 keywords (in plain text).\n",
    "print(r\"Python uses if, else, and for to control the flow of code.\")\n",
    "# Example Output: Python uses if, else, and for to control the flow\n",
    "# of code."
   ]
  },
  {
   "cell_type": "code",
   "execution_count": 17,
   "id": "8badce31",
   "metadata": {},
   "outputs": [
    {
     "name": "stdout",
     "output_type": "stream",
     "text": [
      "if\n",
      "else\n",
      "elif\n",
      "for\n",
      "while\n",
      "do\n",
      "true\n",
      "false\n",
      "is\n"
     ]
    }
   ],
   "source": [
    "# 14. Group and print keywords into 3 categories: Conditional, Looping, Boolean.\n",
    "Conditional_keywords=['if','else','elif']\n",
    "looping_keywords=['for','while','do']\n",
    "boolean_keywords=['true','false','is']\n",
    "for i in range(0,3):\n",
    "    print(Conditional_keywords[i])\n",
    "for i in range(0,3):\n",
    "    print(looping_keywords[i])\n",
    "for i in range(0,3):\n",
    "    print(boolean_keywords[i])"
   ]
  },
  {
   "cell_type": "code",
   "execution_count": null,
   "id": "7f7d9182",
   "metadata": {},
   "outputs": [
    {
     "name": "stdout",
     "output_type": "stream",
     "text": [
      "We can't use Python keywords as variable names because they have special meanings.\n"
     ]
    }
   ],
   "source": [
    "# 15. Write a short explanation (using print) of why we can’t use keywords as variable\n",
    "# names.\n",
    "print(\"We can't use Python keywords as variable names because they have special meanings.\")\n",
    "# Example Output: We can't use Python keywords as variable names because they have special meanings."
   ]
  }
 ],
 "metadata": {
  "kernelspec": {
   "display_name": "Python 3",
   "language": "python",
   "name": "python3"
  },
  "language_info": {
   "codemirror_mode": {
    "name": "ipython",
    "version": 3
   },
   "file_extension": ".py",
   "mimetype": "text/x-python",
   "name": "python",
   "nbconvert_exporter": "python",
   "pygments_lexer": "ipython3",
   "version": "3.13.3"
  }
 },
 "nbformat": 4,
 "nbformat_minor": 5
}
