{
 "cells": [
  {
   "cell_type": "code",
   "execution_count": null,
   "id": "1a426d5c",
   "metadata": {},
   "outputs": [
    {
     "name": "stdout",
     "output_type": "stream",
     "text": [
      "hello world\n"
     ]
    }
   ],
   "source": [
    "# 1. Print a simple message\n",
    "print(\"hello world\")"
   ]
  },
  {
   "cell_type": "code",
   "execution_count": 5,
   "id": "994f737d",
   "metadata": {},
   "outputs": [
    {
     "name": "stdout",
     "output_type": "stream",
     "text": [
      "Name: Muhammad Zakirullah, Age:21 , City:Rashakai \n"
     ]
    }
   ],
   "source": [
    "# 2. Print multiple items in one statement\n",
    "print(\"Name: Muhammad Zakirullah, Age:21 , City:Rashakai \")"
   ]
  },
  {
   "cell_type": "code",
   "execution_count": 2,
   "id": "5da90219",
   "metadata": {},
   "outputs": [
    {
     "name": "stdout",
     "output_type": "stream",
     "text": [
      "Welcome to Python\n",
      "Let's learn coding.\n"
     ]
    }
   ],
   "source": [
    "# 3. Print using escape characters\n",
    "print(\"Welcome to Python\\nLet's learn coding.\")"
   ]
  },
  {
   "cell_type": "code",
   "execution_count": 4,
   "id": "8d575fbe",
   "metadata": {},
   "outputs": [
    {
     "name": "stdout",
     "output_type": "stream",
     "text": [
      "He said, \"Python is amazing!\"\n"
     ]
    }
   ],
   "source": [
    "# 4. Print quotes inside a string\n",
    "print(\"He said, \\\"Python is amazing!\\\"\")"
   ]
  },
  {
   "cell_type": "code",
   "execution_count": 5,
   "id": "f59883c1",
   "metadata": {},
   "outputs": [
    {
     "name": "stdout",
     "output_type": "stream",
     "text": [
      "*\n",
      "**\n",
      "***\n",
      "****\n",
      "*****\n"
     ]
    }
   ],
   "source": [
    "# 5. Print a pattern using stars\n",
    "print(\"*\\n**\\n***\\n****\\n*****\")"
   ]
  },
  {
   "cell_type": "code",
   "execution_count": 8,
   "id": "d0617544",
   "metadata": {},
   "outputs": [
    {
     "name": "stdout",
     "output_type": "stream",
     "text": [
      "Your name is  zakirullah  and your age is  21\n"
     ]
    }
   ],
   "source": [
    "# 🟡 Intermediate Output Exercises\n",
    "# 6. Formatted string output using f-strings\n",
    "name=input(\"Enter Your Name:\")\n",
    "Age=int(input(\"Enter your age:\"))\n",
    "print(\"Your name is \",name,\" and your age is \",Age)\n"
   ]
  },
  {
   "cell_type": "code",
   "execution_count": 10,
   "id": "8e47638e",
   "metadata": {},
   "outputs": [
    {
     "name": "stdout",
     "output_type": "stream",
     "text": [
      "table of 5\n",
      "5  X  1  =  5\n",
      "5  X  2  =  10\n",
      "5  X  3  =  15\n",
      "5  X  4  =  20\n",
      "5  X  5  =  25\n",
      "5  X  6  =  30\n",
      "5  X  7  =  35\n",
      "5  X  8  =  40\n",
      "5  X  9  =  45\n",
      "5  X  10  =  50\n"
     ]
    }
   ],
   "source": [
    "# 7. Print a table\n",
    "number=5\n",
    "print(\"table of\",number)\n",
    "for i in range(1,11):\n",
    "    print(number,\" X \",i,\" = \",i*number)"
   ]
  },
  {
   "cell_type": "code",
   "execution_count": 11,
   "id": "376f4993",
   "metadata": {},
   "outputs": [
    {
     "name": "stdout",
     "output_type": "stream",
     "text": [
      "apple     banana    cherry    \n"
     ]
    }
   ],
   "source": [
    "# 8. Align text with padding\n",
    "a='apple'\n",
    "b='banana'\n",
    "c='cherry'\n",
    "print(f\"{a:10}{b:10}{c:10}\")"
   ]
  },
  {
   "cell_type": "code",
   "execution_count": 13,
   "id": "871c857e",
   "metadata": {},
   "outputs": [
    {
     "name": "stdout",
     "output_type": "stream",
     "text": [
      "2  +  3  =  5\n"
     ]
    }
   ],
   "source": [
    "# 9. Output the result of a simple calculation\n",
    "Num1=int(input(\"enter num1:\"))\n",
    "Num2=int(input(\"enter num2:\"))\n",
    "print(Num1,\" + \",Num2,\" = \",Num1+Num2)"
   ]
  },
  {
   "cell_type": "code",
   "execution_count": 17,
   "id": "1c84a69e",
   "metadata": {},
   "outputs": [
    {
     "name": "stdout",
     "output_type": "stream",
     "text": [
      "Item:      apple \n",
      "Quantity:      3\n",
      "Price:        50 \n",
      "total:       150 \n"
     ]
    }
   ],
   "source": [
    "# 10. Print a formatted receipt\n",
    "# python\n",
    "# Use print statements to simulate a store receipt with:\n",
    "# - Item names\n",
    "# - Quantity``\n",
    "# - Price\n",
    "# - Total\n",
    "itemname=input(\"enter the item :\")\n",
    "quantity=int(input(\"enter the quantity:\"))\n",
    "price=int(input(\"enter the price:\"))\n",
    "print(f\"Item:{itemname:>11} \\nQuantity:{quantity:>7}\\nPrice:{price:>10} \\ntotal:{price*quantity:>10} \")\n"
   ]
  }
 ],
 "metadata": {
  "kernelspec": {
   "display_name": "Python 3",
   "language": "python",
   "name": "python3"
  },
  "language_info": {
   "codemirror_mode": {
    "name": "ipython",
    "version": 3
   },
   "file_extension": ".py",
   "mimetype": "text/x-python",
   "name": "python",
   "nbconvert_exporter": "python",
   "pygments_lexer": "ipython3",
   "version": "3.13.3"
  }
 },
 "nbformat": 4,
 "nbformat_minor": 5
}
