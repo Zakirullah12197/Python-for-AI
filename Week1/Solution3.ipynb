{
 "cells": [
  {
   "cell_type": "code",
   "execution_count": 3,
   "id": "beaa4283",
   "metadata": {},
   "outputs": [
    {
     "name": "stdout",
     "output_type": "stream",
     "text": [
      "hello  zakirullah !\n"
     ]
    }
   ],
   "source": [
    "# 1. Take the user's name as input and print a welcome message.\n",
    "name=input(\"Enter your name:\")\n",
    "print(\"hello \",name,\"!\")\n",
    "# Example:\n",
    "# Input: John\n",
    "# Output: Hello, John!"
   ]
  },
  {
   "cell_type": "code",
   "execution_count": 8,
   "id": "99d3d804",
   "metadata": {},
   "outputs": [
    {
     "name": "stdout",
     "output_type": "stream",
     "text": [
      "3 + 4 = 7\n"
     ]
    }
   ],
   "source": [
    "# 2. Take two numbers as input and print their sum.\n",
    "num1=int(input(\"enter num1:\"))\n",
    "num2=int(input(\"enter num2:\"))\n",
    "print(f\"{num1} + {num2} =\",num1+num2)"
   ]
  },
  {
   "cell_type": "code",
   "execution_count": 1,
   "id": "efdc006b",
   "metadata": {},
   "outputs": [
    {
     "name": "stdout",
     "output_type": "stream",
     "text": [
      "your favourite color is:  skyblue\n"
     ]
    }
   ],
   "source": [
    "# 3. Ask the user for their favorite color and print it back.\n",
    "color=input(\"Enter your favourite color:\")\n",
    "print(\"your favourite color is: \",color)"
   ]
  },
  {
   "cell_type": "code",
   "execution_count": 2,
   "id": "6d52358b",
   "metadata": {},
   "outputs": [
    {
     "name": "stdout",
     "output_type": "stream",
     "text": [
      "your age is:  21\n"
     ]
    }
   ],
   "source": [
    "# 4. Take the user’s age and print: “You are X years old.”\n",
    "age=input(\"Enter your age:\")\n",
    "print(\"your age is: \",age)"
   ]
  },
  {
   "cell_type": "code",
   "execution_count": 4,
   "id": "a55f1a92",
   "metadata": {},
   "outputs": [
    {
     "name": "stdout",
     "output_type": "stream",
     "text": [
      "You live in Rashakai, Pakistan.\n"
     ]
    }
   ],
   "source": [
    "# 5. Ask the user for their city and country, then print: “You live in [City],\n",
    "# [Country].”\n",
    "city=input(\"enter city:\")\n",
    "country=input(\"enter country:\")\n",
    "print(f\"You live in {city}, {country}.\")"
   ]
  },
  {
   "cell_type": "code",
   "execution_count": 8,
   "id": "77d3f5c2",
   "metadata": {},
   "outputs": [
    {
     "name": "stdout",
     "output_type": "stream",
     "text": [
      "5 - 3 =  2\n"
     ]
    }
   ],
   "source": [
    "# 6. Take two numbers as input and print their difference.\n",
    "Num1=int(input(\"enter num1:\"))\n",
    "Num2=int(input(\"enter num2:\"))\n",
    "print(f\"{Num1} - {Num2} = \",Num1-Num2)"
   ]
  },
  {
   "cell_type": "code",
   "execution_count": 9,
   "id": "a1765117",
   "metadata": {},
   "outputs": [
    {
     "name": "stdout",
     "output_type": "stream",
     "text": [
      "PAKISTAN\n"
     ]
    }
   ],
   "source": [
    "# 7. Take a word as input and print it in uppercase.\n",
    "word=input(\"enter word:\")\n",
    "print(str.upper(word))"
   ]
  },
  {
   "cell_type": "code",
   "execution_count": 12,
   "id": "0c30bf5b",
   "metadata": {},
   "outputs": [
    {
     "name": "stdout",
     "output_type": "stream",
     "text": [
      "sentence:  Welcome to nowshera\n",
      "length: 19\n"
     ]
    }
   ],
   "source": [
    "# 8. Take a sentence from the user and print how many characters it has.\n",
    "sentence=input(\"enter sentence:\")\n",
    "print(\"sentence: \",sentence)\n",
    "print(\"length:\",len(sentence))"
   ]
  },
  {
   "cell_type": "code",
   "execution_count": 13,
   "id": "a92bd51d",
   "metadata": {},
   "outputs": [
    {
     "name": "stdout",
     "output_type": "stream",
     "text": [
      "your school name is:  GPGC Nowshera\n"
     ]
    }
   ],
   "source": [
    "# 9. Take your school name as input and print a message: “I study at\n",
    "# [School Name].”\n",
    "school=input(\"enter your school name:\")\n",
    "print(\"your school name is: \",school)"
   ]
  },
  {
   "cell_type": "code",
   "execution_count": 15,
   "id": "b4854705",
   "metadata": {},
   "outputs": [
    {
     "name": "stdout",
     "output_type": "stream",
     "text": [
      "You full name is Muhammad Zakirullah.\n"
     ]
    }
   ],
   "source": [
    "# 10.Take the user’s first name and last name and print the full name.\n",
    "firstname=input(\"enter firstname:\")\n",
    "lastname=input(\"enter lastname:\")\n",
    "print(f\"You full name is {firstname} {lastname}.\")\n"
   ]
  },
  {
   "cell_type": "code",
   "execution_count": 17,
   "id": "edc2d37a",
   "metadata": {},
   "outputs": [
    {
     "name": "stdout",
     "output_type": "stream",
     "text": [
      "your age after five years will be  26\n"
     ]
    }
   ],
   "source": [
    "# 11. Take the user’s age and print how old they will be after 5 years.\n",
    "age=int(input(\"enter your age:\"))\n",
    "print(\"your age after five years will be \",age+5)"
   ]
  },
  {
   "cell_type": "code",
   "execution_count": 19,
   "id": "474fc12e",
   "metadata": {},
   "outputs": [
    {
     "name": "stdout",
     "output_type": "stream",
     "text": [
      "5 * 2 =  10\n"
     ]
    }
   ],
   "source": [
    "# 12. Ask the user for two numbers and print their product.\n",
    "Num1=int(input(\"enter num1:\"))\n",
    "Num2=int(input(\"enter num2:\"))\n",
    "print(f\"{Num1} * {Num2} = \",Num1*Num2)"
   ]
  },
  {
   "cell_type": "code",
   "execution_count": 20,
   "id": "240b24cb",
   "metadata": {},
   "outputs": [
    {
     "name": "stdout",
     "output_type": "stream",
     "text": [
      "Zakirullah likes coding.\n"
     ]
    }
   ],
   "source": [
    "# 13.Take a name and a hobby from the user and print a sentence: “Alex likes\n",
    "# painting.\n",
    "name=input(\"enter name:\")\n",
    "hobby=input(\"enter hobby:\")\n",
    "print(f\"{name} likes {hobby}.\")"
   ]
  }
 ],
 "metadata": {
  "kernelspec": {
   "display_name": "Python 3",
   "language": "python",
   "name": "python3"
  },
  "language_info": {
   "codemirror_mode": {
    "name": "ipython",
    "version": 3
   },
   "file_extension": ".py",
   "mimetype": "text/x-python",
   "name": "python",
   "nbconvert_exporter": "python",
   "pygments_lexer": "ipython3",
   "version": "3.13.3"
  }
 },
 "nbformat": 4,
 "nbformat_minor": 5
}
