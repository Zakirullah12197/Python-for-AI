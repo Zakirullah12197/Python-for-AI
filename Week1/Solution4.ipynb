{
 "cells": [
  {
   "cell_type": "code",
   "execution_count": 1,
   "id": "ed92c4db",
   "metadata": {},
   "outputs": [
    {
     "name": "stdout",
     "output_type": "stream",
     "text": [
      "15\n"
     ]
    }
   ],
   "source": [
    "# 1. Convert a string \"10\" to an integer and add 5 to it.\n",
    "a='10'\n",
    "print(int(a)+5)\n",
    "# Expected Output: 15"
   ]
  },
  {
   "cell_type": "code",
   "execution_count": 2,
   "id": "02d174a6",
   "metadata": {},
   "outputs": [
    {
     "name": "stdout",
     "output_type": "stream",
     "text": [
      "3.14\n"
     ]
    }
   ],
   "source": [
    "# 2. Take a float number (like 7.9) as a string and convert it to a float.\n",
    "number=input(\"enter your float number\")\n",
    "print(float(number))"
   ]
  },
  {
   "cell_type": "code",
   "execution_count": 18,
   "id": "08996694",
   "metadata": {},
   "outputs": [
    {
     "name": "stdout",
     "output_type": "stream",
     "text": [
      "the number is 5\n"
     ]
    }
   ],
   "source": [
    "# 3. Convert an integer 5 into a string and print \"The number is 5\" using string\n",
    "# concatenation.\n",
    "a=5\n",
    "b='the number is '\n",
    "print(b+str(a))"
   ]
  },
  {
   "cell_type": "code",
   "execution_count": 3,
   "id": "4b989c0b",
   "metadata": {},
   "outputs": [
    {
     "name": "stdout",
     "output_type": "stream",
     "text": [
      "3\n"
     ]
    }
   ],
   "source": [
    "# 4. Convert a float 3.14 to an integer and print the result.\n",
    "n=3.14\n",
    "print(int(n))"
   ]
  },
  {
   "cell_type": "code",
   "execution_count": 4,
   "id": "65ae9b8d",
   "metadata": {},
   "outputs": [
    {
     "name": "stdout",
     "output_type": "stream",
     "text": [
      "True\n"
     ]
    }
   ],
   "source": [
    "# 5. Convert an integer 1 to a boolean and print the result.\n",
    "a=1\n",
    "print(bool(a))\n",
    "# Hint: bool(1) returns True"
   ]
  },
  {
   "cell_type": "code",
   "execution_count": 5,
   "id": "444126f4",
   "metadata": {},
   "outputs": [
    {
     "name": "stdout",
     "output_type": "stream",
     "text": [
      "True\n"
     ]
    }
   ],
   "source": [
    "# 6. Convert the string \"False\" to a boolean. What happens?\n",
    "z='False'\n",
    "print(bool(z))"
   ]
  },
  {
   "cell_type": "code",
   "execution_count": 7,
   "id": "7b1e0450",
   "metadata": {},
   "outputs": [
    {
     "name": "stdout",
     "output_type": "stream",
     "text": [
      "8\n"
     ]
    }
   ],
   "source": [
    "# 7. Take a number from the user as a string, convert it to an integer, and multiply it by 2.\n",
    "number=int(input(\"enter your number\"))\n",
    "print(number*2)"
   ]
  },
  {
   "cell_type": "code",
   "execution_count": 9,
   "id": "3fe4dc7e",
   "metadata": {},
   "outputs": [
    {
     "name": "stdout",
     "output_type": "stream",
     "text": [
      "original number:7.99\n",
      "converted number: 7\n"
     ]
    }
   ],
   "source": [
    "# 8. Take a floating-point number input, convert it to an integer, and print both the original and converted values.\n",
    "number=float(input(\"enter your float number\"))\n",
    "print(f\"original number:{number}\")\n",
    "print(f\"converted number:\",int(number))"
   ]
  },
  {
   "cell_type": "code",
   "execution_count": 10,
   "id": "3fd2364d",
   "metadata": {},
   "outputs": [
    {
     "name": "stdout",
     "output_type": "stream",
     "text": [
      "<class 'str'>\n"
     ]
    }
   ],
   "source": [
    "# 9. Convert a number to a string and check its type using type().\n",
    "a = 5\n",
    "print(type(str(a)))"
   ]
  },
  {
   "cell_type": "code",
   "execution_count": 11,
   "id": "180038fe",
   "metadata": {},
   "outputs": [
    {
     "name": "stdout",
     "output_type": "stream",
     "text": [
      "4  +  5  =  9\n"
     ]
    }
   ],
   "source": [
    "# 11. Take two numbers from the user and add them as integers (not strings).\n",
    "Num1=int(input(\"enter num1:\"))\n",
    "Num2=int(input(\"enter num2:\"))\n",
    "print(Num1,\" + \",Num2,\" = \",Num1+Num2)"
   ]
  },
  {
   "cell_type": "code",
   "execution_count": 12,
   "id": "56176ce8",
   "metadata": {},
   "outputs": [
    {
     "name": "stdout",
     "output_type": "stream",
     "text": [
      "25.5\n",
      "25\n"
     ]
    }
   ],
   "source": [
    "# 12. Take a string input like \"25.5\" and convert it into both float and int. Print both results.\n",
    "num1=25.5\n",
    "print(float(num1))\n",
    "print(int(num1))"
   ]
  },
  {
   "cell_type": "code",
   "execution_count": 13,
   "id": "18af7047",
   "metadata": {},
   "outputs": [
    {
     "ename": "ValueError",
     "evalue": "invalid literal for int() with base 10: '123abc'",
     "output_type": "error",
     "traceback": [
      "\u001b[31m---------------------------------------------------------------------------\u001b[39m",
      "\u001b[31mValueError\u001b[39m                                Traceback (most recent call last)",
      "\u001b[36mCell\u001b[39m\u001b[36m \u001b[39m\u001b[32mIn[13]\u001b[39m\u001b[32m, line 3\u001b[39m\n\u001b[32m      1\u001b[39m \u001b[38;5;66;03m# 13. Convert a string like \"123abc\" to an integer. What error do you get?\u001b[39;00m\n\u001b[32m      2\u001b[39m s=\u001b[33m'\u001b[39m\u001b[33m123abc\u001b[39m\u001b[33m'\u001b[39m\n\u001b[32m----> \u001b[39m\u001b[32m3\u001b[39m \u001b[38;5;28mprint\u001b[39m(\u001b[38;5;28;43mint\u001b[39;49m\u001b[43m(\u001b[49m\u001b[43ms\u001b[49m\u001b[43m)\u001b[49m)\n",
      "\u001b[31mValueError\u001b[39m: invalid literal for int() with base 10: '123abc'"
     ]
    }
   ],
   "source": [
    "# 13. Convert a string like \"123abc\" to an integer. What error do you get?\n",
    "s='123abc'\n",
    "print(int(s))"
   ]
  },
  {
   "cell_type": "code",
   "execution_count": 14,
   "id": "dacdb35d",
   "metadata": {},
   "outputs": [
    {
     "name": "stdout",
     "output_type": "stream",
     "text": [
      "34\n"
     ]
    }
   ],
   "source": [
    "# 14. Take a string input, check if it’s numeric using .isnumeric(), and then convert to int if it is.\n",
    "s=input(\"enter a string\")\n",
    "if s.isnumeric():\n",
    "    print(int(s))"
   ]
  },
  {
   "cell_type": "code",
   "execution_count": 15,
   "id": "9a357066",
   "metadata": {},
   "outputs": [
    {
     "name": "stdout",
     "output_type": "stream",
     "text": [
      "in integer: 9\n",
      "in string: 9.99\n"
     ]
    }
   ],
   "source": [
    "# 15. Convert a float (e.g., 9.99) to int and then to string. Print each step.\n",
    "f=9.99\n",
    "print(\"in integer:\",int(f))\n",
    "print(\"in string:\",str(f))"
   ]
  }
 ],
 "metadata": {
  "kernelspec": {
   "display_name": "Python 3",
   "language": "python",
   "name": "python3"
  },
  "language_info": {
   "codemirror_mode": {
    "name": "ipython",
    "version": 3
   },
   "file_extension": ".py",
   "mimetype": "text/x-python",
   "name": "python",
   "nbconvert_exporter": "python",
   "pygments_lexer": "ipython3",
   "version": "3.13.3"
  }
 },
 "nbformat": 4,
 "nbformat_minor": 5
}
