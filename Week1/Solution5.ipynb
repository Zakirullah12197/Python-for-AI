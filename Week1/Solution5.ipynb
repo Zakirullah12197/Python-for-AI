{
 "cells": [
  {
   "cell_type": "code",
   "execution_count": 1,
   "id": "8e2aa522",
   "metadata": {},
   "outputs": [
    {
     "name": "stdout",
     "output_type": "stream",
     "text": [
      "Learning Python is fun!\n"
     ]
    }
   ],
   "source": [
    "# 1. Print a string literal that says “Learning Python is fun!”\n",
    "a=\"Learning Python is fun!\"\n",
    "print(a)"
   ]
  },
  {
   "cell_type": "code",
   "execution_count": 2,
   "id": "97aa4426",
   "metadata": {},
   "outputs": [
    {
     "name": "stdout",
     "output_type": "stream",
     "text": [
      "10\n",
      "3.14\n"
     ]
    }
   ],
   "source": [
    "# 2. Create and print an integer literal and a float literal.\n",
    "b,c=10,3.14\n",
    "print(b)\n",
    "print(c)\n",
    "# Example: 10, 3.14"
   ]
  },
  {
   "cell_type": "code",
   "execution_count": 3,
   "id": "8d441bbe",
   "metadata": {},
   "outputs": [
    {
     "name": "stdout",
     "output_type": "stream",
     "text": [
      "Learning Python is fun!\n",
      "Learning Python is fun!\n"
     ]
    }
   ],
   "source": [
    "# 3. Create a string literal using single quotes and another using double quotes. Print both.\n",
    "a=\"Learning Python is fun!\"\n",
    "b='Learning Python is fun!'\n",
    "print(a)\n",
    "print(b)"
   ]
  },
  {
   "cell_type": "code",
   "execution_count": 4,
   "id": "e6532220",
   "metadata": {},
   "outputs": [
    {
     "name": "stdout",
     "output_type": "stream",
     "text": [
      "False\n"
     ]
    }
   ],
   "source": [
    "# 4. Create a boolean literal and print it.\n",
    "d=False\n",
    "print(d)\n",
    "# Example: True, False"
   ]
  },
  {
   "cell_type": "code",
   "execution_count": 5,
   "id": "8c7c6325",
   "metadata": {},
   "outputs": [
    {
     "name": "stdout",
     "output_type": "stream",
     "text": [
      "None\n"
     ]
    }
   ],
   "source": [
    "# 5. Create a variable with the value None and print it.\n",
    "z=None\n",
    "print(z)"
   ]
  },
  {
   "cell_type": "code",
   "execution_count": 6,
   "id": "60c2edc0",
   "metadata": {},
   "outputs": [
    {
     "name": "stdout",
     "output_type": "stream",
     "text": [
      "Hello\n",
      "10\n",
      "3.5\n",
      "True\n",
      "None\n"
     ]
    }
   ],
   "source": [
    "# 6. Print the type of the following literals using type():\n",
    "#  \"Hello\"\n",
    "#  10\n",
    "#  3.5\n",
    "#  True\n",
    "#  None\n",
    "a=\"Hello\"\n",
    "b=10\n",
    "c=3.5\n",
    "d=True\n",
    "e=None\n",
    "print(a,b,c,d,e ,sep=\"\\n\")"
   ]
  },
  {
   "cell_type": "code",
   "execution_count": 7,
   "id": "7a140f51",
   "metadata": {},
   "outputs": [
    {
     "name": "stdout",
     "output_type": "stream",
     "text": [
      "Python’s simplicity is powerful\n"
     ]
    }
   ],
   "source": [
    "# 7. Use a string literal to print: Python’s simplicity is powerful.\n",
    "s=\"Python’s simplicity is powerful\"\n",
    "print(s)"
   ]
  },
  {
   "cell_type": "code",
   "execution_count": 8,
   "id": "2f4c20e5",
   "metadata": {},
   "outputs": [
    {
     "name": "stdout",
     "output_type": "stream",
     "text": [
      "hello world\n"
     ]
    }
   ],
   "source": [
    "# 8. Use string concatenation to join two string literals and print the result.\n",
    "a=\"hello \"\n",
    "b=\"world\"\n",
    "print(a+b)"
   ]
  },
  {
   "cell_type": "code",
   "execution_count": 9,
   "id": "1c059ba9",
   "metadata": {},
   "outputs": [
    {
     "name": "stdout",
     "output_type": "stream",
     "text": [
      "12\n",
      "hello\n",
      "True\n"
     ]
    }
   ],
   "source": [
    "# 9. Create a list of mixed literals: a number, a string, and a boolean. Print it.\n",
    "l=[12,\"hello\",True]\n",
    "print(l[0])\n",
    "print(l[1])\n",
    "print(l[2])"
   ]
  },
  {
   "cell_type": "code",
   "execution_count": 10,
   "id": "3408eb81",
   "metadata": {},
   "outputs": [
    {
     "name": "stdout",
     "output_type": "stream",
     "text": [
      "hi\n",
      "    i am python\n",
      "    enjoy my simplicity\n"
     ]
    }
   ],
   "source": [
    "# 10. Print a multi-line string using triple quotes (string literal).\n",
    "s='''hi\n",
    "    i am python\n",
    "    enjoy my simplicity'''\n",
    "print(s)"
   ]
  },
  {
   "cell_type": "code",
   "execution_count": 11,
   "id": "134e55c7",
   "metadata": {},
   "outputs": [
    {
     "name": "stdout",
     "output_type": "stream",
     "text": [
      "False\n",
      "False\n"
     ]
    }
   ],
   "source": [
    "# 12. What is the output of: print(None == 0) and print(None == False)? Try and\n",
    "# explain.\n",
    "print(None == 0)\n",
    "print(None == False)"
   ]
  }
 ],
 "metadata": {
  "kernelspec": {
   "display_name": "Python 3",
   "language": "python",
   "name": "python3"
  },
  "language_info": {
   "codemirror_mode": {
    "name": "ipython",
    "version": 3
   },
   "file_extension": ".py",
   "mimetype": "text/x-python",
   "name": "python",
   "nbconvert_exporter": "python",
   "pygments_lexer": "ipython3",
   "version": "3.13.3"
  }
 },
 "nbformat": 4,
 "nbformat_minor": 5
}
